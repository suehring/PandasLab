{
 "cells": [
  {
   "cell_type": "code",
   "execution_count": 1,
   "id": "a60b6bfa-5773-4d2d-8cdb-6c6adfb240a7",
   "metadata": {},
   "outputs": [],
   "source": [
    "import pandas as pd\n",
    "import matplotlib.pyplot as plt\n"
   ]
  },
  {
   "cell_type": "code",
   "execution_count": 2,
   "id": "2ba91254-266b-46f2-a86e-02628be18885",
   "metadata": {},
   "outputs": [
    {
     "data": {
      "text/html": [
       "<div>\n",
       "<style scoped>\n",
       "    .dataframe tbody tr th:only-of-type {\n",
       "        vertical-align: middle;\n",
       "    }\n",
       "\n",
       "    .dataframe tbody tr th {\n",
       "        vertical-align: top;\n",
       "    }\n",
       "\n",
       "    .dataframe thead th {\n",
       "        text-align: right;\n",
       "    }\n",
       "</style>\n",
       "<table border=\"1\" class=\"dataframe\">\n",
       "  <thead>\n",
       "    <tr style=\"text-align: right;\">\n",
       "      <th></th>\n",
       "      <th>Flow_Duration</th>\n",
       "      <th>Protocol</th>\n",
       "      <th>Src_IP</th>\n",
       "      <th>Dst_IP</th>\n",
       "      <th>Total_Fwd_Packets</th>\n",
       "      <th>Total_Backward_Packets</th>\n",
       "      <th>Label</th>\n",
       "    </tr>\n",
       "  </thead>\n",
       "  <tbody>\n",
       "    <tr>\n",
       "      <th>0</th>\n",
       "      <td>7840</td>\n",
       "      <td>UDP</td>\n",
       "      <td>10.182.19.172</td>\n",
       "      <td>10.208.180.150</td>\n",
       "      <td>9</td>\n",
       "      <td>7</td>\n",
       "      <td>Normal</td>\n",
       "    </tr>\n",
       "    <tr>\n",
       "      <th>1</th>\n",
       "      <td>24066</td>\n",
       "      <td>TCP</td>\n",
       "      <td>172.16.150.36</td>\n",
       "      <td>10.35.179.210</td>\n",
       "      <td>10</td>\n",
       "      <td>11</td>\n",
       "      <td>Normal</td>\n",
       "    </tr>\n",
       "    <tr>\n",
       "      <th>2</th>\n",
       "      <td>14061</td>\n",
       "      <td>UDP</td>\n",
       "      <td>172.18.131.161</td>\n",
       "      <td>41.149.86.179</td>\n",
       "      <td>7</td>\n",
       "      <td>7</td>\n",
       "      <td>Normal</td>\n",
       "    </tr>\n",
       "    <tr>\n",
       "      <th>3</th>\n",
       "      <td>15531</td>\n",
       "      <td>TCP</td>\n",
       "      <td>10.250.182.107</td>\n",
       "      <td>226.119.189.21</td>\n",
       "      <td>24</td>\n",
       "      <td>1</td>\n",
       "      <td>Attack</td>\n",
       "    </tr>\n",
       "    <tr>\n",
       "      <th>4</th>\n",
       "      <td>23235</td>\n",
       "      <td>TCP</td>\n",
       "      <td>172.21.26.27</td>\n",
       "      <td>109.115.177.8</td>\n",
       "      <td>18</td>\n",
       "      <td>9</td>\n",
       "      <td>Normal</td>\n",
       "    </tr>\n",
       "  </tbody>\n",
       "</table>\n",
       "</div>"
      ],
      "text/plain": [
       "   Flow_Duration Protocol          Src_IP          Dst_IP  Total_Fwd_Packets  \\\n",
       "0           7840      UDP   10.182.19.172  10.208.180.150                  9   \n",
       "1          24066      TCP   172.16.150.36   10.35.179.210                 10   \n",
       "2          14061      UDP  172.18.131.161   41.149.86.179                  7   \n",
       "3          15531      TCP  10.250.182.107  226.119.189.21                 24   \n",
       "4          23235      TCP    172.21.26.27   109.115.177.8                 18   \n",
       "\n",
       "   Total_Backward_Packets   Label  \n",
       "0                       7  Normal  \n",
       "1                      11  Normal  \n",
       "2                       7  Normal  \n",
       "3                       1  Attack  \n",
       "4                       9  Normal  "
      ]
     },
     "execution_count": 2,
     "metadata": {},
     "output_type": "execute_result"
    }
   ],
   "source": [
    "df = pd.read_csv(\"c:\\\\Users\\\\suehring\\\\Downloads\\\\cyber_lab_dataset.csv\")\n",
    "df.head()"
   ]
  },
  {
   "cell_type": "code",
   "execution_count": 4,
   "id": "c40e076a-2185-4717-8f64-458b404cbb3f",
   "metadata": {},
   "outputs": [
    {
     "data": {
      "text/plain": [
       "(10000, 7)"
      ]
     },
     "execution_count": 4,
     "metadata": {},
     "output_type": "execute_result"
    }
   ],
   "source": [
    "df.shape"
   ]
  },
  {
   "cell_type": "code",
   "execution_count": 5,
   "id": "55be9647-f612-430b-9eaa-66996bd4635c",
   "metadata": {},
   "outputs": [
    {
     "data": {
      "text/plain": [
       "Index(['Flow_Duration', 'Protocol', 'Src_IP', 'Dst_IP', 'Total_Fwd_Packets',\n",
       "       'Total_Backward_Packets', 'Label'],\n",
       "      dtype='object')"
      ]
     },
     "execution_count": 5,
     "metadata": {},
     "output_type": "execute_result"
    }
   ],
   "source": [
    "df.columns"
   ]
  },
  {
   "cell_type": "code",
   "execution_count": 6,
   "id": "685fd027-96e4-46f0-b878-93e810cd1675",
   "metadata": {},
   "outputs": [
    {
     "name": "stdout",
     "output_type": "stream",
     "text": [
      "<class 'pandas.core.frame.DataFrame'>\n",
      "RangeIndex: 10000 entries, 0 to 9999\n",
      "Data columns (total 7 columns):\n",
      " #   Column                  Non-Null Count  Dtype \n",
      "---  ------                  --------------  ----- \n",
      " 0   Flow_Duration           10000 non-null  int64 \n",
      " 1   Protocol                10000 non-null  object\n",
      " 2   Src_IP                  10000 non-null  object\n",
      " 3   Dst_IP                  10000 non-null  object\n",
      " 4   Total_Fwd_Packets       10000 non-null  int64 \n",
      " 5   Total_Backward_Packets  10000 non-null  int64 \n",
      " 6   Label                   10000 non-null  object\n",
      "dtypes: int64(3), object(4)\n",
      "memory usage: 547.0+ KB\n"
     ]
    }
   ],
   "source": [
    "df.info()"
   ]
  },
  {
   "cell_type": "code",
   "execution_count": 7,
   "id": "fb8eec0d-dbab-4f3c-96e0-77b4746e3cd0",
   "metadata": {},
   "outputs": [
    {
     "data": {
      "text/html": [
       "<div>\n",
       "<style scoped>\n",
       "    .dataframe tbody tr th:only-of-type {\n",
       "        vertical-align: middle;\n",
       "    }\n",
       "\n",
       "    .dataframe tbody tr th {\n",
       "        vertical-align: top;\n",
       "    }\n",
       "\n",
       "    .dataframe thead th {\n",
       "        text-align: right;\n",
       "    }\n",
       "</style>\n",
       "<table border=\"1\" class=\"dataframe\">\n",
       "  <thead>\n",
       "    <tr style=\"text-align: right;\">\n",
       "      <th></th>\n",
       "      <th>Flow_Duration</th>\n",
       "      <th>Total_Fwd_Packets</th>\n",
       "      <th>Total_Backward_Packets</th>\n",
       "    </tr>\n",
       "  </thead>\n",
       "  <tbody>\n",
       "    <tr>\n",
       "      <th>count</th>\n",
       "      <td>10000.000000</td>\n",
       "      <td>10000.000000</td>\n",
       "      <td>10000.000000</td>\n",
       "    </tr>\n",
       "    <tr>\n",
       "      <th>mean</th>\n",
       "      <td>20514.783600</td>\n",
       "      <td>11.962500</td>\n",
       "      <td>9.607300</td>\n",
       "    </tr>\n",
       "    <tr>\n",
       "      <th>std</th>\n",
       "      <td>11105.383033</td>\n",
       "      <td>9.330338</td>\n",
       "      <td>7.481249</td>\n",
       "    </tr>\n",
       "    <tr>\n",
       "      <th>min</th>\n",
       "      <td>963.000000</td>\n",
       "      <td>1.000000</td>\n",
       "      <td>0.000000</td>\n",
       "    </tr>\n",
       "    <tr>\n",
       "      <th>25%</th>\n",
       "      <td>12643.000000</td>\n",
       "      <td>7.000000</td>\n",
       "      <td>5.000000</td>\n",
       "    </tr>\n",
       "    <tr>\n",
       "      <th>50%</th>\n",
       "      <td>18275.000000</td>\n",
       "      <td>10.000000</td>\n",
       "      <td>8.000000</td>\n",
       "    </tr>\n",
       "    <tr>\n",
       "      <th>75%</th>\n",
       "      <td>25778.750000</td>\n",
       "      <td>14.000000</td>\n",
       "      <td>12.000000</td>\n",
       "    </tr>\n",
       "    <tr>\n",
       "      <th>max</th>\n",
       "      <td>87527.000000</td>\n",
       "      <td>95.000000</td>\n",
       "      <td>78.000000</td>\n",
       "    </tr>\n",
       "  </tbody>\n",
       "</table>\n",
       "</div>"
      ],
      "text/plain": [
       "       Flow_Duration  Total_Fwd_Packets  Total_Backward_Packets\n",
       "count   10000.000000       10000.000000            10000.000000\n",
       "mean    20514.783600          11.962500                9.607300\n",
       "std     11105.383033           9.330338                7.481249\n",
       "min       963.000000           1.000000                0.000000\n",
       "25%     12643.000000           7.000000                5.000000\n",
       "50%     18275.000000          10.000000                8.000000\n",
       "75%     25778.750000          14.000000               12.000000\n",
       "max     87527.000000          95.000000               78.000000"
      ]
     },
     "execution_count": 7,
     "metadata": {},
     "output_type": "execute_result"
    }
   ],
   "source": [
    "df.describe()"
   ]
  },
  {
   "cell_type": "code",
   "execution_count": 8,
   "id": "06b49468-a672-4862-a8b4-fa447ae19827",
   "metadata": {},
   "outputs": [],
   "source": [
    "df_tcp = df[df['Protocol'] == 'TCP']"
   ]
  },
  {
   "cell_type": "code",
   "execution_count": 9,
   "id": "49698f8a-c88b-476e-a79e-c69b821c4ff3",
   "metadata": {},
   "outputs": [
    {
     "data": {
      "text/plain": [
       "(7058, 7)"
      ]
     },
     "execution_count": 9,
     "metadata": {},
     "output_type": "execute_result"
    }
   ],
   "source": [
    "df_tcp.shape"
   ]
  },
  {
   "cell_type": "code",
   "execution_count": 13,
   "id": "ab0da021-e661-404e-b1a5-c9340ad539ae",
   "metadata": {},
   "outputs": [
    {
     "data": {
      "text/plain": [
       "(8631, 7)"
      ]
     },
     "execution_count": 13,
     "metadata": {},
     "output_type": "execute_result"
    }
   ],
   "source": [
    "long_flows = df[df['Flow_Duration'] > 10000]\n",
    "long_flows.shape"
   ]
  },
  {
   "cell_type": "code",
   "execution_count": 14,
   "id": "87724d7c-d3c1-480c-86bb-bc465b038366",
   "metadata": {},
   "outputs": [
    {
     "data": {
      "text/plain": [
       "np.float64(0.08415981864550864)"
      ]
     },
     "execution_count": 14,
     "metadata": {},
     "output_type": "execute_result"
    }
   ],
   "source": [
    "attack_rate_tcp = (df_tcp['Label'] == 'Attack').mean()\n",
    "attack_rate_tcp"
   ]
  },
  {
   "cell_type": "code",
   "execution_count": 17,
   "id": "2045a463-cdc0-4209-a39c-52c5c0959ab8",
   "metadata": {},
   "outputs": [
    {
     "data": {
      "text/plain": [
       "np.float64(0.09303672807322443)"
      ]
     },
     "execution_count": 17,
     "metadata": {},
     "output_type": "execute_result"
    }
   ],
   "source": [
    "attack_rate_long = (long_flows['Label'] == 'Attack').mean()\n",
    "attack_rate_long"
   ]
  },
  {
   "cell_type": "code",
   "execution_count": 18,
   "id": "156c0c09-2b6f-4bf9-84de-3e5a1e204dcf",
   "metadata": {},
   "outputs": [
    {
     "data": {
      "text/plain": [
       "Label\n",
       "Attack    59.064477\n",
       "Normal    18.211702\n",
       "Name: packets_total, dtype: float64"
      ]
     },
     "execution_count": 18,
     "metadata": {},
     "output_type": "execute_result"
    }
   ],
   "source": [
    "df['packets_total'] = df['Total_Fwd_Packets'] + df['Total_Backward_Packets']\n",
    "df.groupby('Label')['packets_total'].mean()"
   ]
  },
  {
   "cell_type": "code",
   "execution_count": 21,
   "id": "47341b05-9d22-455e-af1e-db05ac10e477",
   "metadata": {},
   "outputs": [
    {
     "data": {
      "image/png": "[encoded data removed]",
      "text/plain": [
       "<Figure size 640x480 with 1 Axes>"
      ]
     },
     "metadata": {},
     "output_type": "display_data"
    }
   ],
   "source": [
    "plt.figure()\n",
    "df['Flow_Duration'].hist(bins=40)\n",
    "plt.title(\"Flow Duration Distribution\")\n",
    "plt.xlabel(\"microseconds\")\n",
    "plt.ylabel(\"count\")\n",
    "plt.show()"
   ]
  },
  {
   "cell_type": "code",
   "execution_count": 23,
   "id": "304bf9c5-375a-47ab-86e4-2724553921e7",
   "metadata": {},
   "outputs": [
    {
     "data": {
      "image/png": "[encoded data removed]",
      "text/plain": [
       "<Figure size 640x480 with 1 Axes>"
      ]
     },
     "metadata": {},
     "output_type": "display_data"
    }
   ],
   "source": [
    "plt.figure()\n",
    "df['Label'].value_counts().plot(kind='bar')\n",
    "plt.title(\"Class Counts\")\n",
    "plt.xlabel(\"Label\")\n",
    "plt.ylabel(\"Count\")\n",
    "plt.show()"
   ]
  },
  {
   "cell_type": "code",
   "execution_count": 24,
   "id": "00ca52f3-86f0-4ccd-b6e2-004a13cfc8d0",
   "metadata": {},
   "outputs": [
    {
     "data": {
      "text/plain": [
       "<Figure size 640x480 with 0 Axes>"
      ]
     },
     "metadata": {},
     "output_type": "display_data"
    },
    {
     "data": {
      "image/png": "[encoded data removed]",
      "text/plain": [
       "<Figure size 640x480 with 1 Axes>"
      ]
     },
     "metadata": {},
     "output_type": "display_data"
    }
   ],
   "source": [
    "plt.figure()\n",
    "df.boxplot(column='packets_total', by='Label')\n",
    "plt.title(\"Packets Total by Label\")\n",
    "plt.xlabel(\"Label\")\n",
    "plt.ylabel(\"Packets Total\")\n",
    "plt.show()"
   ]
  },
  {
   "cell_type": "code",
   "execution_count": null,
   "id": "25329905-c1a3-4c13-860e-87bd967aa1ab",
   "metadata": {},
   "outputs": [],
   "source": []
  }
 ],
 "metadata": {
  "kernelspec": {
   "display_name": "Python [conda env:base] *",
   "language": "python",
   "name": "conda-base-py"
  },
  "language_info": {
   "codemirror_mode": {
    "name": "ipython",
    "version": 3
   },
   "file_extension": ".py",
   "mimetype": "text/x-python",
   "name": "python",
   "nbconvert_exporter": "python",
   "pygments_lexer": "ipython3",
   "version": "3.13.5"
  }
 },
 "nbformat": 4,
 "nbformat_minor": 5
}
